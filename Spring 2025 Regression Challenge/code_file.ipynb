{
 "cells": [
  {
   "cell_type": "code",
   "execution_count": 45,
   "id": "ede94335",
   "metadata": {},
   "outputs": [],
   "source": [
    "# This Python 3 environment comes with many helpful analytics libraries installed\n",
    "# It is defined by the kaggle/python Docker image: https://github.com/kaggle/docker-python\n",
    "# For example, here's several helpful packages to load\n",
    "\n",
    "import numpy as np # linear algebra\n",
    "import pandas as pd # data processing, CSV file I/O (e.g. pd.read_csv)\n",
    "\n",
    "# Input data files are available in the read-only \"../input/\" directory\n",
    "# For example, running this (by clicking run or pressing Shift+Enter) will list all files under the input directory\n",
    "\n",
    "import os\n",
    "for dirname, _, filenames in os.walk('/kaggle/input'):\n",
    "    for filename in filenames:\n",
    "        print(os.path.join(dirname, filename))\n",
    "\n",
    "# You can write up to 20GB to the current directory (/kaggle/working/) that gets preserved as output when you create a version using \"Save & Run All\" \n",
    "# You can also write temporary files to /kaggle/temp/, but they won't be saved outside of the current session"
   ]
  },
  {
   "cell_type": "code",
   "execution_count": 46,
   "id": "637555b6",
   "metadata": {},
   "outputs": [],
   "source": [
    "import numpy as np\n",
    "import matplotlib.pyplot as plt\n",
    "import pandas as pd\n",
    "from sklearn.metrics import mean_squared_error, mean_absolute_error, r2_score"
   ]
  },
  {
   "cell_type": "code",
   "execution_count": 47,
   "id": "49cb3601",
   "metadata": {},
   "outputs": [],
   "source": [
    "Train = pd.read_csv(r\"F:\\DATA\\Kaggle_projects\\Spring 2025 Regression Challenge\\Training_Dataset.csv\")\n",
    "Test = pd.read_csv(r\"F:\\DATA\\Kaggle_projects\\Spring 2025 Regression Challenge\\Test_Dataset.csv\")\n",
    "sample = pd.read_csv(r\"F:\\DATA\\Kaggle_projects\\Spring 2025 Regression Challenge\\Sample_Submission.csv\")"
   ]
  },
  {
   "cell_type": "code",
   "execution_count": 48,
   "id": "d55e1e66",
   "metadata": {},
   "outputs": [
    {
     "data": {
      "text/html": [
       "<div>\n",
       "<style scoped>\n",
       "    .dataframe tbody tr th:only-of-type {\n",
       "        vertical-align: middle;\n",
       "    }\n",
       "\n",
       "    .dataframe tbody tr th {\n",
       "        vertical-align: top;\n",
       "    }\n",
       "\n",
       "    .dataframe thead th {\n",
       "        text-align: right;\n",
       "    }\n",
       "</style>\n",
       "<table border=\"1\" class=\"dataframe\">\n",
       "  <thead>\n",
       "    <tr style=\"text-align: right;\">\n",
       "      <th></th>\n",
       "      <th>Composition (X)</th>\n",
       "      <th>Property (Y)</th>\n",
       "    </tr>\n",
       "  </thead>\n",
       "  <tbody>\n",
       "    <tr>\n",
       "      <th>0</th>\n",
       "      <td>8.06</td>\n",
       "      <td>0.0742</td>\n",
       "    </tr>\n",
       "    <tr>\n",
       "      <th>1</th>\n",
       "      <td>1.76</td>\n",
       "      <td>0.7080</td>\n",
       "    </tr>\n",
       "    <tr>\n",
       "      <th>2</th>\n",
       "      <td>3.35</td>\n",
       "      <td>0.5150</td>\n",
       "    </tr>\n",
       "    <tr>\n",
       "      <th>3</th>\n",
       "      <td>3.79</td>\n",
       "      <td>0.7060</td>\n",
       "    </tr>\n",
       "    <tr>\n",
       "      <th>4</th>\n",
       "      <td>5.46</td>\n",
       "      <td>0.5030</td>\n",
       "    </tr>\n",
       "  </tbody>\n",
       "</table>\n",
       "</div>"
      ],
      "text/plain": [
       "   Composition (X)  Property (Y)\n",
       "0             8.06        0.0742\n",
       "1             1.76        0.7080\n",
       "2             3.35        0.5150\n",
       "3             3.79        0.7060\n",
       "4             5.46        0.5030"
      ]
     },
     "execution_count": 48,
     "metadata": {},
     "output_type": "execute_result"
    }
   ],
   "source": [
    "Train.head()"
   ]
  },
  {
   "cell_type": "code",
   "execution_count": 49,
   "id": "4cd95952",
   "metadata": {},
   "outputs": [
    {
     "data": {
      "text/html": [
       "<div>\n",
       "<style scoped>\n",
       "    .dataframe tbody tr th:only-of-type {\n",
       "        vertical-align: middle;\n",
       "    }\n",
       "\n",
       "    .dataframe tbody tr th {\n",
       "        vertical-align: top;\n",
       "    }\n",
       "\n",
       "    .dataframe thead th {\n",
       "        text-align: right;\n",
       "    }\n",
       "</style>\n",
       "<table border=\"1\" class=\"dataframe\">\n",
       "  <thead>\n",
       "    <tr style=\"text-align: right;\">\n",
       "      <th></th>\n",
       "      <th>Composition (X)</th>\n",
       "      <th>Property (Y)</th>\n",
       "    </tr>\n",
       "  </thead>\n",
       "  <tbody>\n",
       "    <tr>\n",
       "      <th>count</th>\n",
       "      <td>50.000000</td>\n",
       "      <td>50.000000</td>\n",
       "    </tr>\n",
       "    <tr>\n",
       "      <th>mean</th>\n",
       "      <td>5.886600</td>\n",
       "      <td>0.543336</td>\n",
       "    </tr>\n",
       "    <tr>\n",
       "      <th>std</th>\n",
       "      <td>2.419715</td>\n",
       "      <td>0.501293</td>\n",
       "    </tr>\n",
       "    <tr>\n",
       "      <th>min</th>\n",
       "      <td>1.190000</td>\n",
       "      <td>-0.151000</td>\n",
       "    </tr>\n",
       "    <tr>\n",
       "      <th>25%</th>\n",
       "      <td>4.152500</td>\n",
       "      <td>0.314250</td>\n",
       "    </tr>\n",
       "    <tr>\n",
       "      <th>50%</th>\n",
       "      <td>6.145000</td>\n",
       "      <td>0.461000</td>\n",
       "    </tr>\n",
       "    <tr>\n",
       "      <th>75%</th>\n",
       "      <td>8.020000</td>\n",
       "      <td>0.660750</td>\n",
       "    </tr>\n",
       "    <tr>\n",
       "      <th>max</th>\n",
       "      <td>9.690000</td>\n",
       "      <td>2.680000</td>\n",
       "    </tr>\n",
       "  </tbody>\n",
       "</table>\n",
       "</div>"
      ],
      "text/plain": [
       "       Composition (X)  Property (Y)\n",
       "count        50.000000     50.000000\n",
       "mean          5.886600      0.543336\n",
       "std           2.419715      0.501293\n",
       "min           1.190000     -0.151000\n",
       "25%           4.152500      0.314250\n",
       "50%           6.145000      0.461000\n",
       "75%           8.020000      0.660750\n",
       "max           9.690000      2.680000"
      ]
     },
     "execution_count": 49,
     "metadata": {},
     "output_type": "execute_result"
    }
   ],
   "source": [
    "Train.describe()"
   ]
  },
  {
   "cell_type": "markdown",
   "id": "cdd06e5c",
   "metadata": {},
   "source": [
    "75% and max of Y are too far apart this means we need to see it what is going on"
   ]
  },
  {
   "cell_type": "code",
   "execution_count": 50,
   "id": "cb8fe7b7",
   "metadata": {},
   "outputs": [
    {
     "data": {
      "text/html": [
       "<div>\n",
       "<style scoped>\n",
       "    .dataframe tbody tr th:only-of-type {\n",
       "        vertical-align: middle;\n",
       "    }\n",
       "\n",
       "    .dataframe tbody tr th {\n",
       "        vertical-align: top;\n",
       "    }\n",
       "\n",
       "    .dataframe thead th {\n",
       "        text-align: right;\n",
       "    }\n",
       "</style>\n",
       "<table border=\"1\" class=\"dataframe\">\n",
       "  <thead>\n",
       "    <tr style=\"text-align: right;\">\n",
       "      <th></th>\n",
       "      <th>Composition (X)</th>\n",
       "      <th>Property (Y)</th>\n",
       "    </tr>\n",
       "  </thead>\n",
       "  <tbody>\n",
       "    <tr>\n",
       "      <th>Composition (X)</th>\n",
       "      <td>1.000000</td>\n",
       "      <td>0.114452</td>\n",
       "    </tr>\n",
       "    <tr>\n",
       "      <th>Property (Y)</th>\n",
       "      <td>0.114452</td>\n",
       "      <td>1.000000</td>\n",
       "    </tr>\n",
       "  </tbody>\n",
       "</table>\n",
       "</div>"
      ],
      "text/plain": [
       "                 Composition (X)  Property (Y)\n",
       "Composition (X)         1.000000      0.114452\n",
       "Property (Y)            0.114452      1.000000"
      ]
     },
     "execution_count": 50,
     "metadata": {},
     "output_type": "execute_result"
    }
   ],
   "source": [
    "Train.corr()"
   ]
  },
  {
   "cell_type": "code",
   "execution_count": 51,
   "id": "f555fb6c",
   "metadata": {},
   "outputs": [
    {
     "data": {
      "text/plain": [
       "[]"
      ]
     },
     "execution_count": 51,
     "metadata": {},
     "output_type": "execute_result"
    },
    {
     "data": {
      "image/png": "[encoded data removed]",
      "text/plain": [
       "<Figure size 1200x800 with 1 Axes>"
      ]
     },
     "metadata": {},
     "output_type": "display_data"
    }
   ],
   "source": [
    "plt.figure(figsize=(12, 8))\n",
    "plt.grid(True)\n",
    "plt.scatter(Train['Composition (X)'],Train['Property (Y)'])\n",
    "plt.xlabel(\"X\", fontsize=12)\n",
    "plt.ylabel(\"Y\", fontsize=12)\n",
    "plt.plot()"
   ]
  },
  {
   "cell_type": "code",
   "execution_count": 52,
   "id": "5098936e",
   "metadata": {},
   "outputs": [
    {
     "data": {
      "text/html": [
       "<div>\n",
       "<style scoped>\n",
       "    .dataframe tbody tr th:only-of-type {\n",
       "        vertical-align: middle;\n",
       "    }\n",
       "\n",
       "    .dataframe tbody tr th {\n",
       "        vertical-align: top;\n",
       "    }\n",
       "\n",
       "    .dataframe thead th {\n",
       "        text-align: right;\n",
       "    }\n",
       "</style>\n",
       "<table border=\"1\" class=\"dataframe\">\n",
       "  <thead>\n",
       "    <tr style=\"text-align: right;\">\n",
       "      <th></th>\n",
       "      <th>Composition (X)</th>\n",
       "      <th>Property (Y)</th>\n",
       "    </tr>\n",
       "  </thead>\n",
       "  <tbody>\n",
       "    <tr>\n",
       "      <th>17</th>\n",
       "      <td>9.48</td>\n",
       "      <td>1.630</td>\n",
       "    </tr>\n",
       "    <tr>\n",
       "      <th>20</th>\n",
       "      <td>9.60</td>\n",
       "      <td>0.810</td>\n",
       "    </tr>\n",
       "    <tr>\n",
       "      <th>31</th>\n",
       "      <td>9.41</td>\n",
       "      <td>2.180</td>\n",
       "    </tr>\n",
       "    <tr>\n",
       "      <th>36</th>\n",
       "      <td>9.18</td>\n",
       "      <td>2.680</td>\n",
       "    </tr>\n",
       "    <tr>\n",
       "      <th>44</th>\n",
       "      <td>9.69</td>\n",
       "      <td>0.597</td>\n",
       "    </tr>\n",
       "    <tr>\n",
       "      <th>45</th>\n",
       "      <td>9.53</td>\n",
       "      <td>1.380</td>\n",
       "    </tr>\n",
       "  </tbody>\n",
       "</table>\n",
       "</div>"
      ],
      "text/plain": [
       "    Composition (X)  Property (Y)\n",
       "17             9.48         1.630\n",
       "20             9.60         0.810\n",
       "31             9.41         2.180\n",
       "36             9.18         2.680\n",
       "44             9.69         0.597\n",
       "45             9.53         1.380"
      ]
     },
     "execution_count": 52,
     "metadata": {},
     "output_type": "execute_result"
    }
   ],
   "source": [
    "out_lier = Train[(Train['Composition (X)'] > 8) & (Train['Property (Y)'] > 0.5)]\n",
    "out_lier"
   ]
  },
  {
   "cell_type": "code",
   "execution_count": 53,
   "id": "b3fdabfe",
   "metadata": {},
   "outputs": [
    {
     "data": {
      "text/html": [
       "<div>\n",
       "<style scoped>\n",
       "    .dataframe tbody tr th:only-of-type {\n",
       "        vertical-align: middle;\n",
       "    }\n",
       "\n",
       "    .dataframe tbody tr th {\n",
       "        vertical-align: top;\n",
       "    }\n",
       "\n",
       "    .dataframe thead th {\n",
       "        text-align: right;\n",
       "    }\n",
       "</style>\n",
       "<table border=\"1\" class=\"dataframe\">\n",
       "  <thead>\n",
       "    <tr style=\"text-align: right;\">\n",
       "      <th></th>\n",
       "      <th>Composition (X)</th>\n",
       "      <th>Property (Y)</th>\n",
       "    </tr>\n",
       "  </thead>\n",
       "  <tbody>\n",
       "    <tr>\n",
       "      <th>count</th>\n",
       "      <td>44.000000</td>\n",
       "      <td>44.000000</td>\n",
       "    </tr>\n",
       "    <tr>\n",
       "      <th>mean</th>\n",
       "      <td>5.396364</td>\n",
       "      <td>0.406586</td>\n",
       "    </tr>\n",
       "    <tr>\n",
       "      <th>std</th>\n",
       "      <td>2.149194</td>\n",
       "      <td>0.230861</td>\n",
       "    </tr>\n",
       "    <tr>\n",
       "      <th>min</th>\n",
       "      <td>1.190000</td>\n",
       "      <td>-0.151000</td>\n",
       "    </tr>\n",
       "    <tr>\n",
       "      <th>25%</th>\n",
       "      <td>3.932500</td>\n",
       "      <td>0.307500</td>\n",
       "    </tr>\n",
       "    <tr>\n",
       "      <th>50%</th>\n",
       "      <td>5.640000</td>\n",
       "      <td>0.435000</td>\n",
       "    </tr>\n",
       "    <tr>\n",
       "      <th>75%</th>\n",
       "      <td>6.635000</td>\n",
       "      <td>0.538500</td>\n",
       "    </tr>\n",
       "    <tr>\n",
       "      <th>max</th>\n",
       "      <td>8.760000</td>\n",
       "      <td>0.738000</td>\n",
       "    </tr>\n",
       "  </tbody>\n",
       "</table>\n",
       "</div>"
      ],
      "text/plain": [
       "       Composition (X)  Property (Y)\n",
       "count        44.000000     44.000000\n",
       "mean          5.396364      0.406586\n",
       "std           2.149194      0.230861\n",
       "min           1.190000     -0.151000\n",
       "25%           3.932500      0.307500\n",
       "50%           5.640000      0.435000\n",
       "75%           6.635000      0.538500\n",
       "max           8.760000      0.738000"
      ]
     },
     "execution_count": 53,
     "metadata": {},
     "output_type": "execute_result"
    }
   ],
   "source": [
    "Fresh_Train = Train.drop(out_lier.index)\n",
    "Fresh_Train.describe()"
   ]
  },
  {
   "cell_type": "code",
   "execution_count": 54,
   "id": "23a18738",
   "metadata": {},
   "outputs": [],
   "source": [
    "Trainx = Fresh_Train.iloc[:, :-1]\n",
    "Trainy = Fresh_Train.iloc[:, -1]"
   ]
  },
  {
   "cell_type": "code",
   "execution_count": 55,
   "id": "f7f8f043",
   "metadata": {},
   "outputs": [
    {
     "data": {
      "text/html": [
       "<div>\n",
       "<style scoped>\n",
       "    .dataframe tbody tr th:only-of-type {\n",
       "        vertical-align: middle;\n",
       "    }\n",
       "\n",
       "    .dataframe tbody tr th {\n",
       "        vertical-align: top;\n",
       "    }\n",
       "\n",
       "    .dataframe thead th {\n",
       "        text-align: right;\n",
       "    }\n",
       "</style>\n",
       "<table border=\"1\" class=\"dataframe\">\n",
       "  <thead>\n",
       "    <tr style=\"text-align: right;\">\n",
       "      <th></th>\n",
       "      <th>Composition (X)</th>\n",
       "    </tr>\n",
       "  </thead>\n",
       "  <tbody>\n",
       "    <tr>\n",
       "      <th>0</th>\n",
       "      <td>8.06</td>\n",
       "    </tr>\n",
       "    <tr>\n",
       "      <th>1</th>\n",
       "      <td>1.76</td>\n",
       "    </tr>\n",
       "    <tr>\n",
       "      <th>2</th>\n",
       "      <td>3.35</td>\n",
       "    </tr>\n",
       "    <tr>\n",
       "      <th>3</th>\n",
       "      <td>3.79</td>\n",
       "    </tr>\n",
       "    <tr>\n",
       "      <th>4</th>\n",
       "      <td>5.46</td>\n",
       "    </tr>\n",
       "  </tbody>\n",
       "</table>\n",
       "</div>"
      ],
      "text/plain": [
       "   Composition (X)\n",
       "0             8.06\n",
       "1             1.76\n",
       "2             3.35\n",
       "3             3.79\n",
       "4             5.46"
      ]
     },
     "execution_count": 55,
     "metadata": {},
     "output_type": "execute_result"
    }
   ],
   "source": [
    "Trainx.head()"
   ]
  },
  {
   "cell_type": "code",
   "execution_count": 56,
   "id": "34d4d169",
   "metadata": {},
   "outputs": [
    {
     "data": {
      "text/plain": [
       "0    0.0742\n",
       "1    0.7080\n",
       "2    0.5150\n",
       "3    0.7060\n",
       "4    0.5030\n",
       "Name: Property (Y), dtype: float64"
      ]
     },
     "execution_count": 56,
     "metadata": {},
     "output_type": "execute_result"
    }
   ],
   "source": [
    "Trainy.head()"
   ]
  },
  {
   "cell_type": "code",
   "execution_count": 57,
   "id": "0d52f318",
   "metadata": {},
   "outputs": [
    {
     "data": {
      "text/html": [
       "<div>\n",
       "<style scoped>\n",
       "    .dataframe tbody tr th:only-of-type {\n",
       "        vertical-align: middle;\n",
       "    }\n",
       "\n",
       "    .dataframe tbody tr th {\n",
       "        vertical-align: top;\n",
       "    }\n",
       "\n",
       "    .dataframe thead th {\n",
       "        text-align: right;\n",
       "    }\n",
       "</style>\n",
       "<table border=\"1\" class=\"dataframe\">\n",
       "  <thead>\n",
       "    <tr style=\"text-align: right;\">\n",
       "      <th></th>\n",
       "      <th>Composition (X)</th>\n",
       "      <th>Property (Y)</th>\n",
       "    </tr>\n",
       "  </thead>\n",
       "  <tbody>\n",
       "    <tr>\n",
       "      <th>Composition (X)</th>\n",
       "      <td>1.000000</td>\n",
       "      <td>-0.801408</td>\n",
       "    </tr>\n",
       "    <tr>\n",
       "      <th>Property (Y)</th>\n",
       "      <td>-0.801408</td>\n",
       "      <td>1.000000</td>\n",
       "    </tr>\n",
       "  </tbody>\n",
       "</table>\n",
       "</div>"
      ],
      "text/plain": [
       "                 Composition (X)  Property (Y)\n",
       "Composition (X)         1.000000     -0.801408\n",
       "Property (Y)           -0.801408      1.000000"
      ]
     },
     "execution_count": 57,
     "metadata": {},
     "output_type": "execute_result"
    }
   ],
   "source": [
    "Fresh_Train.corr()"
   ]
  },
  {
   "cell_type": "markdown",
   "id": "8cd968f2",
   "metadata": {},
   "source": [
    "# OLS regression"
   ]
  },
  {
   "cell_type": "code",
   "execution_count": 58,
   "id": "6b53883a",
   "metadata": {},
   "outputs": [],
   "source": [
    "from sklearn.linear_model import LinearRegression\n",
    "model = LinearRegression()\n",
    "model.fit(Trainx, Trainy)\n",
    "y_pre = model.predict(Trainx)"
   ]
  },
  {
   "cell_type": "code",
   "execution_count": 59,
   "id": "1ce714c0",
   "metadata": {},
   "outputs": [
    {
     "name": "stdout",
     "output_type": "stream",
     "text": [
      "Evaluation metrics: Train Data by OLS\n",
      "Mean absolute error:  0.10425034113920327\n",
      "Mean squared error:  0.018633326636182376\n",
      "R-squared score:  0.6422546848105137\n"
     ]
    }
   ],
   "source": [
    "mse_train = mean_squared_error(Trainy, y_pre)\n",
    "mae_train = mean_absolute_error(Trainy, y_pre)\n",
    "r2_train = r2_score(Trainy, y_pre)\n",
    "\n",
    "print(\"Evaluation metrics: Train Data by OLS\")\n",
    "print(\"Mean absolute error: \", mae_train)\n",
    "print(\"Mean squared error: \", mse_train)\n",
    "print(\"R-squared score: \", r2_train)"
   ]
  },
  {
   "cell_type": "code",
   "execution_count": 60,
   "id": "b8379b7a",
   "metadata": {},
   "outputs": [
    {
     "data": {
      "text/html": [
       "<div>\n",
       "<style scoped>\n",
       "    .dataframe tbody tr th:only-of-type {\n",
       "        vertical-align: middle;\n",
       "    }\n",
       "\n",
       "    .dataframe tbody tr th {\n",
       "        vertical-align: top;\n",
       "    }\n",
       "\n",
       "    .dataframe thead th {\n",
       "        text-align: right;\n",
       "    }\n",
       "</style>\n",
       "<table border=\"1\" class=\"dataframe\">\n",
       "  <thead>\n",
       "    <tr style=\"text-align: right;\">\n",
       "      <th></th>\n",
       "      <th>Composition (X)</th>\n",
       "    </tr>\n",
       "  </thead>\n",
       "  <tbody>\n",
       "    <tr>\n",
       "      <th>0</th>\n",
       "      <td>0.00</td>\n",
       "    </tr>\n",
       "    <tr>\n",
       "      <th>1</th>\n",
       "      <td>0.01</td>\n",
       "    </tr>\n",
       "    <tr>\n",
       "      <th>2</th>\n",
       "      <td>0.02</td>\n",
       "    </tr>\n",
       "    <tr>\n",
       "      <th>3</th>\n",
       "      <td>0.03</td>\n",
       "    </tr>\n",
       "    <tr>\n",
       "      <th>4</th>\n",
       "      <td>0.04</td>\n",
       "    </tr>\n",
       "  </tbody>\n",
       "</table>\n",
       "</div>"
      ],
      "text/plain": [
       "   Composition (X)\n",
       "0             0.00\n",
       "1             0.01\n",
       "2             0.02\n",
       "3             0.03\n",
       "4             0.04"
      ]
     },
     "execution_count": 60,
     "metadata": {},
     "output_type": "execute_result"
    }
   ],
   "source": [
    "Test.head()"
   ]
  },
  {
   "cell_type": "code",
   "execution_count": 61,
   "id": "337751ed",
   "metadata": {},
   "outputs": [
    {
     "data": {
      "text/html": [
       "<div>\n",
       "<style scoped>\n",
       "    .dataframe tbody tr th:only-of-type {\n",
       "        vertical-align: middle;\n",
       "    }\n",
       "\n",
       "    .dataframe tbody tr th {\n",
       "        vertical-align: top;\n",
       "    }\n",
       "\n",
       "    .dataframe thead th {\n",
       "        text-align: right;\n",
       "    }\n",
       "</style>\n",
       "<table border=\"1\" class=\"dataframe\">\n",
       "  <thead>\n",
       "    <tr style=\"text-align: right;\">\n",
       "      <th></th>\n",
       "      <th>Composition (X)</th>\n",
       "      <th>Property (Y)</th>\n",
       "    </tr>\n",
       "  </thead>\n",
       "  <tbody>\n",
       "    <tr>\n",
       "      <th>0</th>\n",
       "      <td>0.00</td>\n",
       "      <td>0.871133</td>\n",
       "    </tr>\n",
       "    <tr>\n",
       "      <th>1</th>\n",
       "      <td>0.01</td>\n",
       "      <td>0.870272</td>\n",
       "    </tr>\n",
       "    <tr>\n",
       "      <th>2</th>\n",
       "      <td>0.02</td>\n",
       "      <td>0.869412</td>\n",
       "    </tr>\n",
       "    <tr>\n",
       "      <th>3</th>\n",
       "      <td>0.03</td>\n",
       "      <td>0.868551</td>\n",
       "    </tr>\n",
       "    <tr>\n",
       "      <th>4</th>\n",
       "      <td>0.04</td>\n",
       "      <td>0.867690</td>\n",
       "    </tr>\n",
       "  </tbody>\n",
       "</table>\n",
       "</div>"
      ],
      "text/plain": [
       "   Composition (X)  Property (Y)\n",
       "0             0.00      0.871133\n",
       "1             0.01      0.870272\n",
       "2             0.02      0.869412\n",
       "3             0.03      0.868551\n",
       "4             0.04      0.867690"
      ]
     },
     "execution_count": 61,
     "metadata": {},
     "output_type": "execute_result"
    }
   ],
   "source": [
    "test_pre = model.predict(Test)\n",
    "Test['Property (Y)'] = test_pre\n",
    "Test.head()"
   ]
  },
  {
   "cell_type": "code",
   "execution_count": 62,
   "id": "e50e526c",
   "metadata": {},
   "outputs": [],
   "source": [
    "# Test.to_csv('submission.csv', index=False)"
   ]
  },
  {
   "cell_type": "markdown",
   "id": "576a2ec4",
   "metadata": {},
   "source": [
    "# Checking Robust Regressions"
   ]
  },
  {
   "cell_type": "markdown",
   "id": "119054a0",
   "metadata": {},
   "source": [
    "# Huber regression"
   ]
  },
  {
   "cell_type": "code",
   "execution_count": 63,
   "id": "4123e3b8",
   "metadata": {},
   "outputs": [],
   "source": [
    "htrain_x = Train.iloc[:, :-1]\n",
    "htrain_y = Train.iloc[:, -1]"
   ]
  },
  {
   "cell_type": "code",
   "execution_count": 64,
   "id": "ec00df30",
   "metadata": {},
   "outputs": [],
   "source": [
    "from sklearn.linear_model import HuberRegressor\n",
    "model = HuberRegressor()\n",
    "model.fit(htrain_x, htrain_y)\n",
    "y_pre = model.predict(htrain_x)"
   ]
  },
  {
   "cell_type": "code",
   "execution_count": 65,
   "id": "c9a88adb",
   "metadata": {},
   "outputs": [
    {
     "name": "stdout",
     "output_type": "stream",
     "text": [
      "Evaluation metrics: Train Data by Huber\n",
      "Mean absolute error:  0.26999575629469097\n",
      "Mean squared error:  0.29961682205111534\n",
      "R-squared score:  -0.21662742885017994\n"
     ]
    }
   ],
   "source": [
    "mse_train = mean_squared_error(htrain_y, y_pre)\n",
    "mae_train = mean_absolute_error(htrain_y, y_pre)\n",
    "r2_train = r2_score(htrain_y, y_pre)\n",
    "\n",
    "print(\"Evaluation metrics: Train Data by Huber\")\n",
    "print(\"Mean absolute error: \", mae_train)\n",
    "print(\"Mean squared error: \", mse_train)\n",
    "print(\"R-squared score: \", r2_train)"
   ]
  },
  {
   "cell_type": "markdown",
   "id": "52867540",
   "metadata": {},
   "source": [
    "# Ransac regression"
   ]
  },
  {
   "cell_type": "code",
   "execution_count": 66,
   "id": "db97f489",
   "metadata": {},
   "outputs": [],
   "source": [
    "rtrain_x = Train.iloc[:, :-1]\n",
    "rtrain_y = Train.iloc[:, -1]"
   ]
  },
  {
   "cell_type": "code",
   "execution_count": 67,
   "id": "05323947",
   "metadata": {},
   "outputs": [],
   "source": [
    "from sklearn.linear_model import RANSACRegressor\n",
    "model = RANSACRegressor()\n",
    "model.fit(rtrain_x, rtrain_y)\n",
    "y_pre = model.predict(rtrain_x)"
   ]
  },
  {
   "cell_type": "code",
   "execution_count": 68,
   "id": "109ad1f8",
   "metadata": {},
   "outputs": [
    {
     "name": "stdout",
     "output_type": "stream",
     "text": [
      "Evaluation metrics: Train Data by Ransac\n",
      "Mean absolute error:  0.27783740756543013\n",
      "Mean squared error:  0.3631183068398234\n",
      "R-squared score:  -0.4744822703699738\n"
     ]
    }
   ],
   "source": [
    "mse_train = mean_squared_error(rtrain_y, y_pre)\n",
    "mae_train = mean_absolute_error(rtrain_y, y_pre)\n",
    "r2_train = r2_score(rtrain_y, y_pre)\n",
    "\n",
    "print(\"Evaluation metrics: Train Data by Ransac\")\n",
    "print(\"Mean absolute error: \", mae_train)\n",
    "print(\"Mean squared error: \", mse_train)\n",
    "print(\"R-squared score: \", r2_train)"
   ]
  },
  {
   "cell_type": "markdown",
   "id": "d00b7035",
   "metadata": {},
   "source": [
    "# Theil-sen regression"
   ]
  },
  {
   "cell_type": "code",
   "execution_count": 69,
   "id": "5a2bf921",
   "metadata": {},
   "outputs": [],
   "source": [
    "tstrain_x = Train.iloc[:, :-1]\n",
    "tstrain_y = Train.iloc[:, -1]"
   ]
  },
  {
   "cell_type": "code",
   "execution_count": 70,
   "id": "e5097d19",
   "metadata": {},
   "outputs": [],
   "source": [
    "from sklearn.linear_model import TheilSenRegressor\n",
    "model = TheilSenRegressor()\n",
    "model.fit(tstrain_x, tstrain_y)\n",
    "y_pre = model.predict(tstrain_x)"
   ]
  },
  {
   "cell_type": "code",
   "execution_count": 71,
   "id": "951897f0",
   "metadata": {},
   "outputs": [
    {
     "name": "stdout",
     "output_type": "stream",
     "text": [
      "Evaluation metrics: Train Data by Theil-Sen\n",
      "Mean absolute error:  0.27048485109239256\n",
      "Mean squared error:  0.29660560177583606\n",
      "R-squared score:  -0.20440003401922624\n"
     ]
    }
   ],
   "source": [
    "mse_train = mean_squared_error(tstrain_y, y_pre)\n",
    "mae_train = mean_absolute_error(tstrain_y, y_pre)\n",
    "r2_train = r2_score(tstrain_y, y_pre)\n",
    "\n",
    "print(\"Evaluation metrics: Train Data by Theil-Sen\")\n",
    "print(\"Mean absolute error: \", mae_train)\n",
    "print(\"Mean squared error: \", mse_train)\n",
    "print(\"R-squared score: \", r2_train)"
   ]
  },
  {
   "cell_type": "markdown",
   "id": "c4751dfb",
   "metadata": {},
   "source": [
    "# other regression models\n",
    "## ridge"
   ]
  },
  {
   "cell_type": "code",
   "execution_count": 72,
   "id": "e0abd7bd",
   "metadata": {},
   "outputs": [
    {
     "name": "stdout",
     "output_type": "stream",
     "text": [
      "(50, 1) (50,)\n"
     ]
    }
   ],
   "source": [
    "from sklearn.linear_model import Ridge\n",
    "model = Ridge(alpha=1.0)\n",
    "model.fit(tstrain_x, tstrain_y)\n",
    "y_pre = model.predict(tstrain_x)\n",
    "print(tstrain_x.shape, y_pre.shape)"
   ]
  },
  {
   "cell_type": "code",
   "execution_count": 73,
   "id": "ec306569",
   "metadata": {},
   "outputs": [
    {
     "name": "stdout",
     "output_type": "stream",
     "text": [
      "Evaluation metrics: Train Data by ridge regression\n",
      "R-squared score:  0.01309913353509351\n"
     ]
    }
   ],
   "source": [
    "r2_train = r2_score(tstrain_y, y_pre)\n",
    "print(\"Evaluation metrics: Train Data by ridge regression\")\n",
    "print(\"R-squared score: \", r2_train)"
   ]
  },
  {
   "cell_type": "markdown",
   "id": "8781a805",
   "metadata": {},
   "source": [
    "## polynomial"
   ]
  },
  {
   "cell_type": "code",
   "execution_count": 74,
   "id": "e287db90",
   "metadata": {},
   "outputs": [],
   "source": [
    "# Pipeline function provides a framework for building and evaluating ML pipelines viz., a sequence of data preprocessing steps and machine learning models that are executed in a specific order\n",
    "from sklearn.pipeline import Pipeline\n",
    "\n",
    "#PolynomialFeatures function generates new set of polynomial and interaction features using the existing features\n",
    "#E.g., for a 2D input sample of the form [a,b], the second degree polynomial features are [1, a, b, a^2, b^2, ab]\n",
    "from sklearn.preprocessing import PolynomialFeatures\n",
    "\n",
    "#LinearRegression class provides the functionality of the Ordinary least squares Linear Regression model\n",
    "from sklearn.linear_model import LinearRegression"
   ]
  },
  {
   "cell_type": "code",
   "execution_count": 81,
   "id": "7d328df6",
   "metadata": {},
   "outputs": [],
   "source": [
    "x = tstrain_x.reset_index(drop=True)\n",
    "y = tstrain_y"
   ]
  }
 ],
 "metadata": {
  "kernelspec": {
   "display_name": "Python 3",
   "language": "python",
   "name": "python3"
  },
  "language_info": {
   "codemirror_mode": {
    "name": "ipython",
    "version": 3
   },
   "file_extension": ".py",
   "mimetype": "text/x-python",
   "name": "python",
   "nbconvert_exporter": "python",
   "pygments_lexer": "ipython3",
   "version": "3.12.4"
  }
 },
 "nbformat": 4,
 "nbformat_minor": 5
}
