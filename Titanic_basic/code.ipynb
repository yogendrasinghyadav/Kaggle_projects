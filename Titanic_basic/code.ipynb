{
 "cells": [
  {
   "cell_type": "markdown",
   "id": "41f3acd6",
   "metadata": {},
   "source": [
    "# Summary\n",
    "This notebook explores the Titanic survival dataset with clear EDA, thoughtful missing-value handling, and simple but strong baseline models, culminating in a clean submission file. The focus is on reproducibility and interpretability using the classic Kaggle competition format."
   ]
  },
  {
   "cell_type": "markdown",
   "id": "15862f1f",
   "metadata": {},
   "source": [
    "# Objective\n",
    "Build a model that predicts the Survived label for Titanic passengers using train.csv and test.csv, following the standard Kaggle submission workflow. The notebook emphasizes transparent EDA and baseline modeling that new competitors can easily reproduce and extend."
   ]
  },
  {
   "cell_type": "markdown",
   "id": "b9405acd",
   "metadata": {},
   "source": [
    "Labels of data\n",
    "\n",
    "Survived: 0 = No, 1 = Yes.\n",
    "\n",
    "Pclass: 1st, 2nd, 3rd (proxy for socio-economic status).\n",
    "\n",
    "Embarked: C = Cherbourg, Q = Queenstown, S = Southampton."
   ]
  },
  {
   "cell_type": "code",
   "execution_count": 1,
   "id": "4ba3b4c5",
   "metadata": {},
   "outputs": [],
   "source": [
    "# This Python 3 environment comes with many helpful analytics libraries installed\n",
    "# It is defined by the kaggle/python Docker image: https://github.com/kaggle/docker-python\n",
    "# For example, here's several helpful packages to load\n",
    "\n",
    "import numpy as np # linear algebra\n",
    "import pandas as pd # data processing, CSV file I/O (e.g. pd.read_csv)\n",
    "\n",
    "# Input data files are available in the read-only \"../input/\" directory\n",
    "# For example, running this (by clicking run or pressing Shift+Enter) will list all files under the input directory\n",
    "\n",
    "import os\n",
    "for dirname, _, filenames in os.walk('/kaggle/input'):\n",
    "    for filename in filenames:\n",
    "        print(os.path.join(dirname, filename))\n",
    "\n",
    "# You can write up to 20GB to the current directory (/kaggle/working/) that gets preserved as output when you create a version using \"Save & Run All\" \n",
    "# You can also write temporary files to /kaggle/temp/, but they won't be saved outside of the current session"
   ]
  },
  {
   "cell_type": "markdown",
   "id": "9a2f1f70",
   "metadata": {},
   "source": [
    "# Load libraries for data visualization\n"
   ]
  },
  {
   "cell_type": "code",
   "execution_count": 2,
   "id": "08c82cde",
   "metadata": {},
   "outputs": [],
   "source": [
    "import matplotlib.pyplot as plt\n",
    "import seaborn as sns"
   ]
  },
  {
   "cell_type": "markdown",
   "id": "81440c2a",
   "metadata": {},
   "source": [
    "# Load the Titanic dataset\n"
   ]
  },
  {
   "cell_type": "code",
   "execution_count": 3,
   "id": "dc159c19",
   "metadata": {},
   "outputs": [],
   "source": [
    "Test = pd.read_csv(r\"F:\\DATA\\Kaggle_projects\\Titanic_basic\\test.csv\")\n",
    "Train = pd.read_csv(r\"F:\\DATA\\Kaggle_projects\\Titanic_basic\\train.csv\")"
   ]
  },
  {
   "cell_type": "markdown",
   "id": "a7c735a6",
   "metadata": {},
   "source": [
    "# Exploratory analysis"
   ]
  },
  {
   "cell_type": "code",
   "execution_count": 4,
   "id": "584969e2",
   "metadata": {},
   "outputs": [
    {
     "name": "stdout",
     "output_type": "stream",
     "text": [
      "<class 'pandas.core.frame.DataFrame'>\n",
      "RangeIndex: 891 entries, 0 to 890\n",
      "Data columns (total 12 columns):\n",
      " #   Column       Non-Null Count  Dtype  \n",
      "---  ------       --------------  -----  \n",
      " 0   PassengerId  891 non-null    int64  \n",
      " 1   Survived     891 non-null    int64  \n",
      " 2   Pclass       891 non-null    int64  \n",
      " 3   Name         891 non-null    object \n",
      " 4   Sex          891 non-null    object \n",
      " 5   Age          714 non-null    float64\n",
      " 6   SibSp        891 non-null    int64  \n",
      " 7   Parch        891 non-null    int64  \n",
      " 8   Ticket       891 non-null    object \n",
      " 9   Fare         891 non-null    float64\n",
      " 10  Cabin        204 non-null    object \n",
      " 11  Embarked     889 non-null    object \n",
      "dtypes: float64(2), int64(5), object(5)\n",
      "memory usage: 83.7+ KB\n",
      "None\n",
      "(891, 12)\n"
     ]
    }
   ],
   "source": [
    "print (Train.info())\n",
    "print (Train.shape)"
   ]
  },
  {
   "cell_type": "markdown",
   "id": "f43813a8",
   "metadata": {},
   "source": [
    "Notice: Data in Cabin, Age, Embarked is missing.\n",
    "\n",
    "unfortunatly Cabin column missing values can not be dealt with easily."
   ]
  },
  {
   "cell_type": "code",
   "execution_count": 5,
   "id": "61dcdf19",
   "metadata": {},
   "outputs": [
    {
     "name": "stdout",
     "output_type": "stream",
     "text": [
      "<class 'pandas.core.frame.DataFrame'>\n",
      "RangeIndex: 418 entries, 0 to 417\n",
      "Data columns (total 11 columns):\n",
      " #   Column       Non-Null Count  Dtype  \n",
      "---  ------       --------------  -----  \n",
      " 0   PassengerId  418 non-null    int64  \n",
      " 1   Pclass       418 non-null    int64  \n",
      " 2   Name         418 non-null    object \n",
      " 3   Sex          418 non-null    object \n",
      " 4   Age          332 non-null    float64\n",
      " 5   SibSp        418 non-null    int64  \n",
      " 6   Parch        418 non-null    int64  \n",
      " 7   Ticket       418 non-null    object \n",
      " 8   Fare         417 non-null    float64\n",
      " 9   Cabin        91 non-null     object \n",
      " 10  Embarked     418 non-null    object \n",
      "dtypes: float64(2), int64(4), object(5)\n",
      "memory usage: 36.1+ KB\n",
      "None\n",
      "(418, 11)\n"
     ]
    }
   ],
   "source": [
    "print (Test.info())\n",
    "print (Test.shape)"
   ]
  },
  {
   "cell_type": "markdown",
   "id": "23b3f9f1",
   "metadata": {},
   "source": [
    "Notice: Data in Cabin, Age, Fare is missing.\n",
    "\n",
    "unfortunatly Cabin column missing values can not be dealt with easily."
   ]
  },
  {
   "cell_type": "code",
   "execution_count": 6,
   "id": "67379bd5",
   "metadata": {},
   "outputs": [
    {
     "data": {
      "text/html": [
       "<div>\n",
       "<style scoped>\n",
       "    .dataframe tbody tr th:only-of-type {\n",
       "        vertical-align: middle;\n",
       "    }\n",
       "\n",
       "    .dataframe tbody tr th {\n",
       "        vertical-align: top;\n",
       "    }\n",
       "\n",
       "    .dataframe thead th {\n",
       "        text-align: right;\n",
       "    }\n",
       "</style>\n",
       "<table border=\"1\" class=\"dataframe\">\n",
       "  <thead>\n",
       "    <tr style=\"text-align: right;\">\n",
       "      <th></th>\n",
       "      <th>PassengerId</th>\n",
       "      <th>Pclass</th>\n",
       "      <th>Name</th>\n",
       "      <th>Sex</th>\n",
       "      <th>Age</th>\n",
       "      <th>SibSp</th>\n",
       "      <th>Parch</th>\n",
       "      <th>Ticket</th>\n",
       "      <th>Fare</th>\n",
       "      <th>Cabin</th>\n",
       "      <th>Embarked</th>\n",
       "    </tr>\n",
       "  </thead>\n",
       "  <tbody>\n",
       "    <tr>\n",
       "      <th>0</th>\n",
       "      <td>892</td>\n",
       "      <td>3</td>\n",
       "      <td>Kelly, Mr. James</td>\n",
       "      <td>male</td>\n",
       "      <td>34.5</td>\n",
       "      <td>0</td>\n",
       "      <td>0</td>\n",
       "      <td>330911</td>\n",
       "      <td>7.8292</td>\n",
       "      <td>NaN</td>\n",
       "      <td>Q</td>\n",
       "    </tr>\n",
       "    <tr>\n",
       "      <th>1</th>\n",
       "      <td>893</td>\n",
       "      <td>3</td>\n",
       "      <td>Wilkes, Mrs. James (Ellen Needs)</td>\n",
       "      <td>female</td>\n",
       "      <td>47.0</td>\n",
       "      <td>1</td>\n",
       "      <td>0</td>\n",
       "      <td>363272</td>\n",
       "      <td>7.0000</td>\n",
       "      <td>NaN</td>\n",
       "      <td>S</td>\n",
       "    </tr>\n",
       "    <tr>\n",
       "      <th>2</th>\n",
       "      <td>894</td>\n",
       "      <td>2</td>\n",
       "      <td>Myles, Mr. Thomas Francis</td>\n",
       "      <td>male</td>\n",
       "      <td>62.0</td>\n",
       "      <td>0</td>\n",
       "      <td>0</td>\n",
       "      <td>240276</td>\n",
       "      <td>9.6875</td>\n",
       "      <td>NaN</td>\n",
       "      <td>Q</td>\n",
       "    </tr>\n",
       "    <tr>\n",
       "      <th>3</th>\n",
       "      <td>895</td>\n",
       "      <td>3</td>\n",
       "      <td>Wirz, Mr. Albert</td>\n",
       "      <td>male</td>\n",
       "      <td>27.0</td>\n",
       "      <td>0</td>\n",
       "      <td>0</td>\n",
       "      <td>315154</td>\n",
       "      <td>8.6625</td>\n",
       "      <td>NaN</td>\n",
       "      <td>S</td>\n",
       "    </tr>\n",
       "    <tr>\n",
       "      <th>4</th>\n",
       "      <td>896</td>\n",
       "      <td>3</td>\n",
       "      <td>Hirvonen, Mrs. Alexander (Helga E Lindqvist)</td>\n",
       "      <td>female</td>\n",
       "      <td>22.0</td>\n",
       "      <td>1</td>\n",
       "      <td>1</td>\n",
       "      <td>3101298</td>\n",
       "      <td>12.2875</td>\n",
       "      <td>NaN</td>\n",
       "      <td>S</td>\n",
       "    </tr>\n",
       "  </tbody>\n",
       "</table>\n",
       "</div>"
      ],
      "text/plain": [
       "   PassengerId  Pclass                                          Name     Sex  \\\n",
       "0          892       3                              Kelly, Mr. James    male   \n",
       "1          893       3              Wilkes, Mrs. James (Ellen Needs)  female   \n",
       "2          894       2                     Myles, Mr. Thomas Francis    male   \n",
       "3          895       3                              Wirz, Mr. Albert    male   \n",
       "4          896       3  Hirvonen, Mrs. Alexander (Helga E Lindqvist)  female   \n",
       "\n",
       "    Age  SibSp  Parch   Ticket     Fare Cabin Embarked  \n",
       "0  34.5      0      0   330911   7.8292   NaN        Q  \n",
       "1  47.0      1      0   363272   7.0000   NaN        S  \n",
       "2  62.0      0      0   240276   9.6875   NaN        Q  \n",
       "3  27.0      0      0   315154   8.6625   NaN        S  \n",
       "4  22.0      1      1  3101298  12.2875   NaN        S  "
      ]
     },
     "execution_count": 6,
     "metadata": {},
     "output_type": "execute_result"
    }
   ],
   "source": [
    "Test.head(5)"
   ]
  },
  {
   "cell_type": "code",
   "execution_count": 7,
   "id": "b98316e3",
   "metadata": {},
   "outputs": [
    {
     "data": {
      "text/html": [
       "<div>\n",
       "<style scoped>\n",
       "    .dataframe tbody tr th:only-of-type {\n",
       "        vertical-align: middle;\n",
       "    }\n",
       "\n",
       "    .dataframe tbody tr th {\n",
       "        vertical-align: top;\n",
       "    }\n",
       "\n",
       "    .dataframe thead th {\n",
       "        text-align: right;\n",
       "    }\n",
       "</style>\n",
       "<table border=\"1\" class=\"dataframe\">\n",
       "  <thead>\n",
       "    <tr style=\"text-align: right;\">\n",
       "      <th></th>\n",
       "      <th>PassengerId</th>\n",
       "      <th>Survived</th>\n",
       "      <th>Pclass</th>\n",
       "      <th>Name</th>\n",
       "      <th>Sex</th>\n",
       "      <th>Age</th>\n",
       "      <th>SibSp</th>\n",
       "      <th>Parch</th>\n",
       "      <th>Ticket</th>\n",
       "      <th>Fare</th>\n",
       "      <th>Cabin</th>\n",
       "      <th>Embarked</th>\n",
       "    </tr>\n",
       "  </thead>\n",
       "  <tbody>\n",
       "    <tr>\n",
       "      <th>0</th>\n",
       "      <td>1</td>\n",
       "      <td>0</td>\n",
       "      <td>3</td>\n",
       "      <td>Braund, Mr. Owen Harris</td>\n",
       "      <td>male</td>\n",
       "      <td>22.0</td>\n",
       "      <td>1</td>\n",
       "      <td>0</td>\n",
       "      <td>A/5 21171</td>\n",
       "      <td>7.2500</td>\n",
       "      <td>NaN</td>\n",
       "      <td>S</td>\n",
       "    </tr>\n",
       "    <tr>\n",
       "      <th>1</th>\n",
       "      <td>2</td>\n",
       "      <td>1</td>\n",
       "      <td>1</td>\n",
       "      <td>Cumings, Mrs. John Bradley (Florence Briggs Th...</td>\n",
       "      <td>female</td>\n",
       "      <td>38.0</td>\n",
       "      <td>1</td>\n",
       "      <td>0</td>\n",
       "      <td>PC 17599</td>\n",
       "      <td>71.2833</td>\n",
       "      <td>C85</td>\n",
       "      <td>C</td>\n",
       "    </tr>\n",
       "    <tr>\n",
       "      <th>2</th>\n",
       "      <td>3</td>\n",
       "      <td>1</td>\n",
       "      <td>3</td>\n",
       "      <td>Heikkinen, Miss. Laina</td>\n",
       "      <td>female</td>\n",
       "      <td>26.0</td>\n",
       "      <td>0</td>\n",
       "      <td>0</td>\n",
       "      <td>STON/O2. 3101282</td>\n",
       "      <td>7.9250</td>\n",
       "      <td>NaN</td>\n",
       "      <td>S</td>\n",
       "    </tr>\n",
       "    <tr>\n",
       "      <th>3</th>\n",
       "      <td>4</td>\n",
       "      <td>1</td>\n",
       "      <td>1</td>\n",
       "      <td>Futrelle, Mrs. Jacques Heath (Lily May Peel)</td>\n",
       "      <td>female</td>\n",
       "      <td>35.0</td>\n",
       "      <td>1</td>\n",
       "      <td>0</td>\n",
       "      <td>113803</td>\n",
       "      <td>53.1000</td>\n",
       "      <td>C123</td>\n",
       "      <td>S</td>\n",
       "    </tr>\n",
       "    <tr>\n",
       "      <th>4</th>\n",
       "      <td>5</td>\n",
       "      <td>0</td>\n",
       "      <td>3</td>\n",
       "      <td>Allen, Mr. William Henry</td>\n",
       "      <td>male</td>\n",
       "      <td>35.0</td>\n",
       "      <td>0</td>\n",
       "      <td>0</td>\n",
       "      <td>373450</td>\n",
       "      <td>8.0500</td>\n",
       "      <td>NaN</td>\n",
       "      <td>S</td>\n",
       "    </tr>\n",
       "  </tbody>\n",
       "</table>\n",
       "</div>"
      ],
      "text/plain": [
       "   PassengerId  Survived  Pclass  \\\n",
       "0            1         0       3   \n",
       "1            2         1       1   \n",
       "2            3         1       3   \n",
       "3            4         1       1   \n",
       "4            5         0       3   \n",
       "\n",
       "                                                Name     Sex   Age  SibSp  \\\n",
       "0                            Braund, Mr. Owen Harris    male  22.0      1   \n",
       "1  Cumings, Mrs. John Bradley (Florence Briggs Th...  female  38.0      1   \n",
       "2                             Heikkinen, Miss. Laina  female  26.0      0   \n",
       "3       Futrelle, Mrs. Jacques Heath (Lily May Peel)  female  35.0      1   \n",
       "4                           Allen, Mr. William Henry    male  35.0      0   \n",
       "\n",
       "   Parch            Ticket     Fare Cabin Embarked  \n",
       "0      0         A/5 21171   7.2500   NaN        S  \n",
       "1      0          PC 17599  71.2833   C85        C  \n",
       "2      0  STON/O2. 3101282   7.9250   NaN        S  \n",
       "3      0            113803  53.1000  C123        S  \n",
       "4      0            373450   8.0500   NaN        S  "
      ]
     },
     "execution_count": 7,
     "metadata": {},
     "output_type": "execute_result"
    }
   ],
   "source": [
    "Train.head(5)"
   ]
  },
  {
   "cell_type": "markdown",
   "id": "f5a1bafb",
   "metadata": {},
   "source": [
    "Let's check all unique values in train dataset"
   ]
  },
  {
   "cell_type": "code",
   "execution_count": 8,
   "id": "947bb43d",
   "metadata": {},
   "outputs": [
    {
     "name": "stdout",
     "output_type": "stream",
     "text": [
      "Unique values of Age in train dataset (89,)\n",
      "Unique values of Fare in train dataset (248,)\n",
      "Unique values of PassengerId in train dataset (891,)\n",
      "Unique values of Pclass in train dataset (3,)\n",
      "Unique values of name in train dataset (891,)\n",
      "Unique values of ticket in train dataset (681,)\n",
      "Unique values of Embarked in train dataset (4,)\n",
      "Unique values of SibSp in train dataset (7,)\n",
      "Unique values of Parch in train dataset (7,)\n",
      "Unique values of sex in train dataset (2,)\n"
     ]
    }
   ],
   "source": [
    "print('Unique values of Age in train dataset',Train['Age'].unique().shape)\n",
    "print('Unique values of Fare in train dataset',Train['Fare'].unique().shape)\n",
    "print('Unique values of PassengerId in train dataset',Train['PassengerId'].unique().shape)\n",
    "print('Unique values of Pclass in train dataset',Train['Pclass'].unique().shape)\n",
    "print('Unique values of name in train dataset',Train['Name'].unique().shape)\n",
    "print('Unique values of ticket in train dataset',Train['Ticket'].unique().shape)\n",
    "print('Unique values of Embarked in train dataset',Train['Embarked'].unique().shape)\n",
    "print('Unique values of SibSp in train dataset',Train['SibSp'].unique().shape)\n",
    "print('Unique values of Parch in train dataset',Train['Parch'].unique().shape)\n",
    "print('Unique values of sex in train dataset',Train['Sex'].unique().shape)"
   ]
  },
  {
   "cell_type": "markdown",
   "id": "6d613de3",
   "metadata": {},
   "source": [
    "Let's check all unique values in train dataset"
   ]
  },
  {
   "cell_type": "code",
   "execution_count": 9,
   "id": "8c497f6a",
   "metadata": {},
   "outputs": [
    {
     "name": "stdout",
     "output_type": "stream",
     "text": [
      "Unique values of Age in Test dataset (80,)\n",
      "Unique values of Fare in Test dataset (170,)\n",
      "Unique values of PassengerId in Test dataset (418,)\n",
      "Unique values of Pclass in Test dataset (3,)\n",
      "Unique values of name in Test dataset (418,)\n",
      "Unique values of ticket in Test dataset (363,)\n",
      "Unique values of Embarked in Test dataset (3,)\n",
      "Unique values of SibSp in Test dataset (7,)\n",
      "Unique values of Parch in Test dataset (8,)\n",
      "Unique values of sex in Test dataset (2,)\n"
     ]
    }
   ],
   "source": [
    "print('Unique values of Age in Test dataset',Test['Age'].unique().shape)\n",
    "print('Unique values of Fare in Test dataset',Test['Fare'].unique().shape)\n",
    "print('Unique values of PassengerId in Test dataset',Test['PassengerId'].unique().shape)\n",
    "print('Unique values of Pclass in Test dataset',Test['Pclass'].unique().shape)\n",
    "print('Unique values of name in Test dataset',Test['Name'].unique().shape)\n",
    "print('Unique values of ticket in Test dataset',Test['Ticket'].unique().shape)\n",
    "print('Unique values of Embarked in Test dataset',Test['Embarked'].unique().shape)\n",
    "print('Unique values of SibSp in Test dataset',Test['SibSp'].unique().shape)\n",
    "print('Unique values of Parch in Test dataset',Test['Parch'].unique().shape)\n",
    "print('Unique values of sex in Test dataset',Test['Sex'].unique().shape)"
   ]
  },
  {
   "cell_type": "markdown",
   "id": "9c01541a",
   "metadata": {},
   "source": [
    "unique values table"
   ]
  },
  {
   "cell_type": "markdown",
   "id": "320eacf9",
   "metadata": {},
   "source": [
    "| Column Name    | Train    | Test        |\n",
    "|----------------|----------|-------------|\n",
    "| Age            |  89      |  80         |\n",
    "| Fare           |  248     |  170        |\n",
    "| PassengerId    |  891     |  418        |\n",
    "| Pclass         |  3       |  3          |\n",
    "| Name           |  891     |  418        |\n",
    "| ticket         |  681     |  363        |\n",
    "| Embarked       |  4       |  3          |\n",
    "| SibSp          |  7       |  7          |\n",
    "| Parch          |  7       |  8          |\n",
    "| sex            |  2       |  2          |"
   ]
  },
  {
   "cell_type": "markdown",
   "id": "01015595",
   "metadata": {},
   "source": [
    "for smooth analysis we provide number to catagorical data"
   ]
  },
  {
   "cell_type": "code",
   "execution_count": 10,
   "id": "6105b132",
   "metadata": {},
   "outputs": [],
   "source": [
    "Train['Sex'] = Train['Sex'].map({'male': 0, 'female': 1})\n",
    "Train['Embarked'] = Train['Embarked'].map({'S': 0, 'C': 1, 'Q': 2})\n",
    "Test['Sex'] = Test['Sex'].map({'male': 0, 'female': 1})\n",
    "Test['Embarked'] = Test['Embarked'].map({'S': 0, 'C': 1, 'Q': 2})"
   ]
  },
  {
   "cell_type": "code",
   "execution_count": 11,
   "id": "8814b2ff",
   "metadata": {},
   "outputs": [
    {
     "name": "stdout",
     "output_type": "stream",
     "text": [
      "Sex\n",
      "0    577\n",
      "1    314\n",
      "Name: count, dtype: int64\n",
      "Embarked\n",
      "0.0    644\n",
      "1.0    168\n",
      "2.0     77\n",
      "Name: count, dtype: int64\n",
      "Pclass\n",
      "3    491\n",
      "1    216\n",
      "2    184\n",
      "Name: count, dtype: int64\n",
      "SibSp\n",
      "0    608\n",
      "1    209\n",
      "2     28\n",
      "4     18\n",
      "3     16\n",
      "8      7\n",
      "5      5\n",
      "Name: count, dtype: int64\n",
      "Parch\n",
      "0    678\n",
      "1    118\n",
      "2     80\n",
      "5      5\n",
      "3      5\n",
      "4      4\n",
      "6      1\n",
      "Name: count, dtype: int64\n",
      "Survived\n",
      "0    549\n",
      "1    342\n",
      "Name: count, dtype: int64\n"
     ]
    }
   ],
   "source": [
    "print(Train['Sex'].value_counts())\n",
    "print(Train['Embarked'].value_counts())\n",
    "print(Train['Pclass'].value_counts())\n",
    "print(Train['SibSp'].value_counts())\n",
    "print(Train['Parch'].value_counts())\n",
    "print(Train['Survived'].value_counts())"
   ]
  },
  {
   "cell_type": "markdown",
   "id": "fb1c320b",
   "metadata": {},
   "source": [
    "Drop the irrealavent columns from the data set"
   ]
  },
  {
   "cell_type": "code",
   "execution_count": 12,
   "id": "083d4c4c",
   "metadata": {},
   "outputs": [],
   "source": [
    "cleaned_train = Train.drop(['PassengerId', 'Name', 'Ticket', 'Cabin'], axis=1)\n",
    "cleaned_test = Test.drop(['PassengerId', 'Name', 'Ticket', 'Cabin'], axis=1)"
   ]
  },
  {
   "cell_type": "code",
   "execution_count": 13,
   "id": "64313050",
   "metadata": {},
   "outputs": [
    {
     "data": {
      "text/html": [
       "<div>\n",
       "<style scoped>\n",
       "    .dataframe tbody tr th:only-of-type {\n",
       "        vertical-align: middle;\n",
       "    }\n",
       "\n",
       "    .dataframe tbody tr th {\n",
       "        vertical-align: top;\n",
       "    }\n",
       "\n",
       "    .dataframe thead th {\n",
       "        text-align: right;\n",
       "    }\n",
       "</style>\n",
       "<table border=\"1\" class=\"dataframe\">\n",
       "  <thead>\n",
       "    <tr style=\"text-align: right;\">\n",
       "      <th></th>\n",
       "      <th>Survived</th>\n",
       "      <th>Pclass</th>\n",
       "      <th>Sex</th>\n",
       "      <th>Age</th>\n",
       "      <th>SibSp</th>\n",
       "      <th>Parch</th>\n",
       "      <th>Fare</th>\n",
       "      <th>Embarked</th>\n",
       "    </tr>\n",
       "  </thead>\n",
       "  <tbody>\n",
       "    <tr>\n",
       "      <th>0</th>\n",
       "      <td>0</td>\n",
       "      <td>3</td>\n",
       "      <td>0</td>\n",
       "      <td>22.0</td>\n",
       "      <td>1</td>\n",
       "      <td>0</td>\n",
       "      <td>7.2500</td>\n",
       "      <td>0.0</td>\n",
       "    </tr>\n",
       "    <tr>\n",
       "      <th>1</th>\n",
       "      <td>1</td>\n",
       "      <td>1</td>\n",
       "      <td>1</td>\n",
       "      <td>38.0</td>\n",
       "      <td>1</td>\n",
       "      <td>0</td>\n",
       "      <td>71.2833</td>\n",
       "      <td>1.0</td>\n",
       "    </tr>\n",
       "    <tr>\n",
       "      <th>2</th>\n",
       "      <td>1</td>\n",
       "      <td>3</td>\n",
       "      <td>1</td>\n",
       "      <td>26.0</td>\n",
       "      <td>0</td>\n",
       "      <td>0</td>\n",
       "      <td>7.9250</td>\n",
       "      <td>0.0</td>\n",
       "    </tr>\n",
       "    <tr>\n",
       "      <th>3</th>\n",
       "      <td>1</td>\n",
       "      <td>1</td>\n",
       "      <td>1</td>\n",
       "      <td>35.0</td>\n",
       "      <td>1</td>\n",
       "      <td>0</td>\n",
       "      <td>53.1000</td>\n",
       "      <td>0.0</td>\n",
       "    </tr>\n",
       "    <tr>\n",
       "      <th>4</th>\n",
       "      <td>0</td>\n",
       "      <td>3</td>\n",
       "      <td>0</td>\n",
       "      <td>35.0</td>\n",
       "      <td>0</td>\n",
       "      <td>0</td>\n",
       "      <td>8.0500</td>\n",
       "      <td>0.0</td>\n",
       "    </tr>\n",
       "  </tbody>\n",
       "</table>\n",
       "</div>"
      ],
      "text/plain": [
       "   Survived  Pclass  Sex   Age  SibSp  Parch     Fare  Embarked\n",
       "0         0       3    0  22.0      1      0   7.2500       0.0\n",
       "1         1       1    1  38.0      1      0  71.2833       1.0\n",
       "2         1       3    1  26.0      0      0   7.9250       0.0\n",
       "3         1       1    1  35.0      1      0  53.1000       0.0\n",
       "4         0       3    0  35.0      0      0   8.0500       0.0"
      ]
     },
     "execution_count": 13,
     "metadata": {},
     "output_type": "execute_result"
    }
   ],
   "source": [
    "cleaned_train.head(5)"
   ]
  },
  {
   "cell_type": "code",
   "execution_count": 14,
   "id": "7734f3c1",
   "metadata": {},
   "outputs": [
    {
     "data": {
      "text/html": [
       "<div>\n",
       "<style scoped>\n",
       "    .dataframe tbody tr th:only-of-type {\n",
       "        vertical-align: middle;\n",
       "    }\n",
       "\n",
       "    .dataframe tbody tr th {\n",
       "        vertical-align: top;\n",
       "    }\n",
       "\n",
       "    .dataframe thead th {\n",
       "        text-align: right;\n",
       "    }\n",
       "</style>\n",
       "<table border=\"1\" class=\"dataframe\">\n",
       "  <thead>\n",
       "    <tr style=\"text-align: right;\">\n",
       "      <th></th>\n",
       "      <th>Survived</th>\n",
       "      <th>Pclass</th>\n",
       "      <th>Sex</th>\n",
       "      <th>Age</th>\n",
       "      <th>SibSp</th>\n",
       "      <th>Parch</th>\n",
       "      <th>Fare</th>\n",
       "      <th>Embarked</th>\n",
       "    </tr>\n",
       "  </thead>\n",
       "  <tbody>\n",
       "    <tr>\n",
       "      <th>count</th>\n",
       "      <td>891.000000</td>\n",
       "      <td>891.000000</td>\n",
       "      <td>891.000000</td>\n",
       "      <td>714.000000</td>\n",
       "      <td>891.000000</td>\n",
       "      <td>891.000000</td>\n",
       "      <td>891.000000</td>\n",
       "      <td>889.000000</td>\n",
       "    </tr>\n",
       "    <tr>\n",
       "      <th>mean</th>\n",
       "      <td>0.383838</td>\n",
       "      <td>2.308642</td>\n",
       "      <td>0.352413</td>\n",
       "      <td>29.699118</td>\n",
       "      <td>0.523008</td>\n",
       "      <td>0.381594</td>\n",
       "      <td>32.204208</td>\n",
       "      <td>0.362205</td>\n",
       "    </tr>\n",
       "    <tr>\n",
       "      <th>std</th>\n",
       "      <td>0.486592</td>\n",
       "      <td>0.836071</td>\n",
       "      <td>0.477990</td>\n",
       "      <td>14.526497</td>\n",
       "      <td>1.102743</td>\n",
       "      <td>0.806057</td>\n",
       "      <td>49.693429</td>\n",
       "      <td>0.636157</td>\n",
       "    </tr>\n",
       "    <tr>\n",
       "      <th>min</th>\n",
       "      <td>0.000000</td>\n",
       "      <td>1.000000</td>\n",
       "      <td>0.000000</td>\n",
       "      <td>0.420000</td>\n",
       "      <td>0.000000</td>\n",
       "      <td>0.000000</td>\n",
       "      <td>0.000000</td>\n",
       "      <td>0.000000</td>\n",
       "    </tr>\n",
       "    <tr>\n",
       "      <th>25%</th>\n",
       "      <td>0.000000</td>\n",
       "      <td>2.000000</td>\n",
       "      <td>0.000000</td>\n",
       "      <td>20.125000</td>\n",
       "      <td>0.000000</td>\n",
       "      <td>0.000000</td>\n",
       "      <td>7.910400</td>\n",
       "      <td>0.000000</td>\n",
       "    </tr>\n",
       "    <tr>\n",
       "      <th>50%</th>\n",
       "      <td>0.000000</td>\n",
       "      <td>3.000000</td>\n",
       "      <td>0.000000</td>\n",
       "      <td>28.000000</td>\n",
       "      <td>0.000000</td>\n",
       "      <td>0.000000</td>\n",
       "      <td>14.454200</td>\n",
       "      <td>0.000000</td>\n",
       "    </tr>\n",
       "    <tr>\n",
       "      <th>75%</th>\n",
       "      <td>1.000000</td>\n",
       "      <td>3.000000</td>\n",
       "      <td>1.000000</td>\n",
       "      <td>38.000000</td>\n",
       "      <td>1.000000</td>\n",
       "      <td>0.000000</td>\n",
       "      <td>31.000000</td>\n",
       "      <td>1.000000</td>\n",
       "    </tr>\n",
       "    <tr>\n",
       "      <th>max</th>\n",
       "      <td>1.000000</td>\n",
       "      <td>3.000000</td>\n",
       "      <td>1.000000</td>\n",
       "      <td>80.000000</td>\n",
       "      <td>8.000000</td>\n",
       "      <td>6.000000</td>\n",
       "      <td>512.329200</td>\n",
       "      <td>2.000000</td>\n",
       "    </tr>\n",
       "  </tbody>\n",
       "</table>\n",
       "</div>"
      ],
      "text/plain": [
       "         Survived      Pclass         Sex         Age       SibSp       Parch  \\\n",
       "count  891.000000  891.000000  891.000000  714.000000  891.000000  891.000000   \n",
       "mean     0.383838    2.308642    0.352413   29.699118    0.523008    0.381594   \n",
       "std      0.486592    0.836071    0.477990   14.526497    1.102743    0.806057   \n",
       "min      0.000000    1.000000    0.000000    0.420000    0.000000    0.000000   \n",
       "25%      0.000000    2.000000    0.000000   20.125000    0.000000    0.000000   \n",
       "50%      0.000000    3.000000    0.000000   28.000000    0.000000    0.000000   \n",
       "75%      1.000000    3.000000    1.000000   38.000000    1.000000    0.000000   \n",
       "max      1.000000    3.000000    1.000000   80.000000    8.000000    6.000000   \n",
       "\n",
       "             Fare    Embarked  \n",
       "count  891.000000  889.000000  \n",
       "mean    32.204208    0.362205  \n",
       "std     49.693429    0.636157  \n",
       "min      0.000000    0.000000  \n",
       "25%      7.910400    0.000000  \n",
       "50%     14.454200    0.000000  \n",
       "75%     31.000000    1.000000  \n",
       "max    512.329200    2.000000  "
      ]
     },
     "execution_count": 14,
     "metadata": {},
     "output_type": "execute_result"
    }
   ],
   "source": [
    "cleaned_train.describe()"
   ]
  },
  {
   "cell_type": "code",
   "execution_count": 15,
   "id": "68e2623b",
   "metadata": {},
   "outputs": [
    {
     "data": {
      "text/html": [
       "<div>\n",
       "<style scoped>\n",
       "    .dataframe tbody tr th:only-of-type {\n",
       "        vertical-align: middle;\n",
       "    }\n",
       "\n",
       "    .dataframe tbody tr th {\n",
       "        vertical-align: top;\n",
       "    }\n",
       "\n",
       "    .dataframe thead th {\n",
       "        text-align: right;\n",
       "    }\n",
       "</style>\n",
       "<table border=\"1\" class=\"dataframe\">\n",
       "  <thead>\n",
       "    <tr style=\"text-align: right;\">\n",
       "      <th></th>\n",
       "      <th>Pclass</th>\n",
       "      <th>Sex</th>\n",
       "      <th>Age</th>\n",
       "      <th>SibSp</th>\n",
       "      <th>Parch</th>\n",
       "      <th>Fare</th>\n",
       "      <th>Embarked</th>\n",
       "    </tr>\n",
       "  </thead>\n",
       "  <tbody>\n",
       "    <tr>\n",
       "      <th>0</th>\n",
       "      <td>3</td>\n",
       "      <td>0</td>\n",
       "      <td>34.5</td>\n",
       "      <td>0</td>\n",
       "      <td>0</td>\n",
       "      <td>7.8292</td>\n",
       "      <td>2</td>\n",
       "    </tr>\n",
       "    <tr>\n",
       "      <th>1</th>\n",
       "      <td>3</td>\n",
       "      <td>1</td>\n",
       "      <td>47.0</td>\n",
       "      <td>1</td>\n",
       "      <td>0</td>\n",
       "      <td>7.0000</td>\n",
       "      <td>0</td>\n",
       "    </tr>\n",
       "    <tr>\n",
       "      <th>2</th>\n",
       "      <td>2</td>\n",
       "      <td>0</td>\n",
       "      <td>62.0</td>\n",
       "      <td>0</td>\n",
       "      <td>0</td>\n",
       "      <td>9.6875</td>\n",
       "      <td>2</td>\n",
       "    </tr>\n",
       "    <tr>\n",
       "      <th>3</th>\n",
       "      <td>3</td>\n",
       "      <td>0</td>\n",
       "      <td>27.0</td>\n",
       "      <td>0</td>\n",
       "      <td>0</td>\n",
       "      <td>8.6625</td>\n",
       "      <td>0</td>\n",
       "    </tr>\n",
       "    <tr>\n",
       "      <th>4</th>\n",
       "      <td>3</td>\n",
       "      <td>1</td>\n",
       "      <td>22.0</td>\n",
       "      <td>1</td>\n",
       "      <td>1</td>\n",
       "      <td>12.2875</td>\n",
       "      <td>0</td>\n",
       "    </tr>\n",
       "  </tbody>\n",
       "</table>\n",
       "</div>"
      ],
      "text/plain": [
       "   Pclass  Sex   Age  SibSp  Parch     Fare  Embarked\n",
       "0       3    0  34.5      0      0   7.8292         2\n",
       "1       3    1  47.0      1      0   7.0000         0\n",
       "2       2    0  62.0      0      0   9.6875         2\n",
       "3       3    0  27.0      0      0   8.6625         0\n",
       "4       3    1  22.0      1      1  12.2875         0"
      ]
     },
     "execution_count": 15,
     "metadata": {},
     "output_type": "execute_result"
    }
   ],
   "source": [
    "cleaned_test.head(5)"
   ]
  },
  {
   "cell_type": "code",
   "execution_count": 16,
   "id": "5efd7519",
   "metadata": {},
   "outputs": [
    {
     "data": {
      "text/html": [
       "<div>\n",
       "<style scoped>\n",
       "    .dataframe tbody tr th:only-of-type {\n",
       "        vertical-align: middle;\n",
       "    }\n",
       "\n",
       "    .dataframe tbody tr th {\n",
       "        vertical-align: top;\n",
       "    }\n",
       "\n",
       "    .dataframe thead th {\n",
       "        text-align: right;\n",
       "    }\n",
       "</style>\n",
       "<table border=\"1\" class=\"dataframe\">\n",
       "  <thead>\n",
       "    <tr style=\"text-align: right;\">\n",
       "      <th></th>\n",
       "      <th>Pclass</th>\n",
       "      <th>Sex</th>\n",
       "      <th>Age</th>\n",
       "      <th>SibSp</th>\n",
       "      <th>Parch</th>\n",
       "      <th>Fare</th>\n",
       "      <th>Embarked</th>\n",
       "    </tr>\n",
       "  </thead>\n",
       "  <tbody>\n",
       "    <tr>\n",
       "      <th>count</th>\n",
       "      <td>418.000000</td>\n",
       "      <td>418.000000</td>\n",
       "      <td>332.000000</td>\n",
       "      <td>418.000000</td>\n",
       "      <td>418.000000</td>\n",
       "      <td>417.000000</td>\n",
       "      <td>418.000000</td>\n",
       "    </tr>\n",
       "    <tr>\n",
       "      <th>mean</th>\n",
       "      <td>2.265550</td>\n",
       "      <td>0.363636</td>\n",
       "      <td>30.272590</td>\n",
       "      <td>0.447368</td>\n",
       "      <td>0.392344</td>\n",
       "      <td>35.627188</td>\n",
       "      <td>0.464115</td>\n",
       "    </tr>\n",
       "    <tr>\n",
       "      <th>std</th>\n",
       "      <td>0.841838</td>\n",
       "      <td>0.481622</td>\n",
       "      <td>14.181209</td>\n",
       "      <td>0.896760</td>\n",
       "      <td>0.981429</td>\n",
       "      <td>55.907576</td>\n",
       "      <td>0.685516</td>\n",
       "    </tr>\n",
       "    <tr>\n",
       "      <th>min</th>\n",
       "      <td>1.000000</td>\n",
       "      <td>0.000000</td>\n",
       "      <td>0.170000</td>\n",
       "      <td>0.000000</td>\n",
       "      <td>0.000000</td>\n",
       "      <td>0.000000</td>\n",
       "      <td>0.000000</td>\n",
       "    </tr>\n",
       "    <tr>\n",
       "      <th>25%</th>\n",
       "      <td>1.000000</td>\n",
       "      <td>0.000000</td>\n",
       "      <td>21.000000</td>\n",
       "      <td>0.000000</td>\n",
       "      <td>0.000000</td>\n",
       "      <td>7.895800</td>\n",
       "      <td>0.000000</td>\n",
       "    </tr>\n",
       "    <tr>\n",
       "      <th>50%</th>\n",
       "      <td>3.000000</td>\n",
       "      <td>0.000000</td>\n",
       "      <td>27.000000</td>\n",
       "      <td>0.000000</td>\n",
       "      <td>0.000000</td>\n",
       "      <td>14.454200</td>\n",
       "      <td>0.000000</td>\n",
       "    </tr>\n",
       "    <tr>\n",
       "      <th>75%</th>\n",
       "      <td>3.000000</td>\n",
       "      <td>1.000000</td>\n",
       "      <td>39.000000</td>\n",
       "      <td>1.000000</td>\n",
       "      <td>0.000000</td>\n",
       "      <td>31.500000</td>\n",
       "      <td>1.000000</td>\n",
       "    </tr>\n",
       "    <tr>\n",
       "      <th>max</th>\n",
       "      <td>3.000000</td>\n",
       "      <td>1.000000</td>\n",
       "      <td>76.000000</td>\n",
       "      <td>8.000000</td>\n",
       "      <td>9.000000</td>\n",
       "      <td>512.329200</td>\n",
       "      <td>2.000000</td>\n",
       "    </tr>\n",
       "  </tbody>\n",
       "</table>\n",
       "</div>"
      ],
      "text/plain": [
       "           Pclass         Sex         Age       SibSp       Parch        Fare  \\\n",
       "count  418.000000  418.000000  332.000000  418.000000  418.000000  417.000000   \n",
       "mean     2.265550    0.363636   30.272590    0.447368    0.392344   35.627188   \n",
       "std      0.841838    0.481622   14.181209    0.896760    0.981429   55.907576   \n",
       "min      1.000000    0.000000    0.170000    0.000000    0.000000    0.000000   \n",
       "25%      1.000000    0.000000   21.000000    0.000000    0.000000    7.895800   \n",
       "50%      3.000000    0.000000   27.000000    0.000000    0.000000   14.454200   \n",
       "75%      3.000000    1.000000   39.000000    1.000000    0.000000   31.500000   \n",
       "max      3.000000    1.000000   76.000000    8.000000    9.000000  512.329200   \n",
       "\n",
       "         Embarked  \n",
       "count  418.000000  \n",
       "mean     0.464115  \n",
       "std      0.685516  \n",
       "min      0.000000  \n",
       "25%      0.000000  \n",
       "50%      0.000000  \n",
       "75%      1.000000  \n",
       "max      2.000000  "
      ]
     },
     "execution_count": 16,
     "metadata": {},
     "output_type": "execute_result"
    }
   ],
   "source": [
    "cleaned_test.describe()"
   ]
  },
  {
   "cell_type": "markdown",
   "id": "68cb01f5",
   "metadata": {},
   "source": [
    "Trying to deal with missing values"
   ]
  },
  {
   "cell_type": "markdown",
   "id": "c20d8f6e",
   "metadata": {},
   "source": [
    "Pre-assumption: All data is related to each other\n",
    "\n",
    "(null hyputhesis: All data is related to each other)"
   ]
  },
  {
   "cell_type": "markdown",
   "id": "2f9c521b",
   "metadata": {},
   "source": [
    "Trying correlation analysis with embarked"
   ]
  },
  {
   "cell_type": "code",
   "execution_count": 17,
   "id": "7a158b23",
   "metadata": {},
   "outputs": [],
   "source": [
    "# Separate rows with missing values in the 'embarked' column\n",
    "missing_embarked = cleaned_train[cleaned_train['Embarked'].isnull()]\n",
    "\n",
    "# Separate rows with non-missing values in the 'embarked' column\n",
    "non_missing_embarked = cleaned_train[cleaned_train['Embarked'].notnull()]\n"
   ]
  },
  {
   "cell_type": "code",
   "execution_count": 18,
   "id": "cdb38002",
   "metadata": {},
   "outputs": [
    {
     "data": {
      "image/png": "[encoded data removed]",
      "text/plain": [
       "<Figure size 1000x800 with 2 Axes>"
      ]
     },
     "metadata": {},
     "output_type": "display_data"
    }
   ],
   "source": [
    "plt.figure(figsize=(10, 8))\n",
    "sns.heatmap(non_missing_embarked.corr(), annot=True, cmap='coolwarm', fmt=\".2f\")\n",
    "plt.title('Correlation Matrix Heatmap (Embarked)')\n",
    "plt.show()"
   ]
  },
  {
   "cell_type": "markdown",
   "id": "113f1787",
   "metadata": {},
   "source": [
    "There is not any relation of other features with Embarked column so we will use modal class to deal with missing values of this columns\n",
    "\n",
    "Trying correlation analysis with age "
   ]
  },
  {
   "cell_type": "code",
   "execution_count": 19,
   "id": "88aeaf24",
   "metadata": {},
   "outputs": [],
   "source": [
    "# Separate rows with missing values in the 'embarked' column\n",
    "missing_age = cleaned_train[cleaned_train['Age'].isnull()]\n",
    "\n",
    "# Separate rows with non-missing values in the 'embarked' column\n",
    "non_missing_age = cleaned_train[cleaned_train['Age'].notnull()]\n"
   ]
  },
  {
   "cell_type": "code",
   "execution_count": 20,
   "id": "0b557e69",
   "metadata": {},
   "outputs": [
    {
     "data": {
      "image/png": "[encoded data removed]",
      "text/plain": [
       "<Figure size 1000x800 with 2 Axes>"
      ]
     },
     "metadata": {},
     "output_type": "display_data"
    }
   ],
   "source": [
    "plt.figure(figsize=(10, 8))\n",
    "sns.heatmap(non_missing_age.corr(), annot=True, cmap='coolwarm', fmt=\".2f\")\n",
    "plt.title('Correlation Matrix Heatmap (Age)')\n",
    "plt.show()"
   ]
  },
  {
   "cell_type": "markdown",
   "id": "afff3ed4",
   "metadata": {},
   "source": [
    "There is also no good coorelation to be found. so for age we will use median class"
   ]
  },
  {
   "cell_type": "markdown",
   "id": "cc2c7950",
   "metadata": {},
   "source": [
    "Failed to accept null hypothesis "
   ]
  },
  {
   "cell_type": "markdown",
   "id": "fe0681b2",
   "metadata": {},
   "source": [
    "# Data cleaning"
   ]
  },
  {
   "cell_type": "code",
   "execution_count": 21,
   "id": "d7a7bfa1",
   "metadata": {},
   "outputs": [
    {
     "name": "stdout",
     "output_type": "stream",
     "text": [
      "<class 'pandas.core.frame.DataFrame'>\n",
      "RangeIndex: 891 entries, 0 to 890\n",
      "Data columns (total 8 columns):\n",
      " #   Column    Non-Null Count  Dtype  \n",
      "---  ------    --------------  -----  \n",
      " 0   Survived  891 non-null    int64  \n",
      " 1   Pclass    891 non-null    int64  \n",
      " 2   Sex       891 non-null    int64  \n",
      " 3   Age       891 non-null    float64\n",
      " 4   SibSp     891 non-null    int64  \n",
      " 5   Parch     891 non-null    int64  \n",
      " 6   Fare      891 non-null    float64\n",
      " 7   Embarked  891 non-null    float64\n",
      "dtypes: float64(3), int64(5)\n",
      "memory usage: 55.8 KB\n"
     ]
    }
   ],
   "source": [
    "mode_embarked = cleaned_train['Embarked'].mode()[0]\n",
    "cleaned_train['Embarked'] = cleaned_train['Embarked'].fillna(mode_embarked)\n",
    "median_age = cleaned_train['Age'].median()\n",
    "cleaned_train['Age'] = cleaned_train['Age'].fillna(median_age)\n",
    "cleaned_train.info()"
   ]
  },
  {
   "cell_type": "code",
   "execution_count": 22,
   "id": "a26bd5a7",
   "metadata": {},
   "outputs": [
    {
     "data": {
      "image/png": "[encoded data removed]",
      "text/plain": [
       "<Figure size 640x480 with 1 Axes>"
      ]
     },
     "metadata": {},
     "output_type": "display_data"
    },
    {
     "data": {
      "image/png": "[encoded data removed]",
      "text/plain": [
       "<Figure size 640x480 with 1 Axes>"
      ]
     },
     "metadata": {},
     "output_type": "display_data"
    }
   ],
   "source": [
    "sns.histplot(cleaned_train['Age'], bins=30, kde=True)\n",
    "plt.show()\n",
    "\n",
    "sns.histplot(cleaned_train['Fare'], bins=30, kde=True)\n",
    "plt.show()\n"
   ]
  },
  {
   "cell_type": "code",
   "execution_count": 23,
   "id": "86a524ec",
   "metadata": {},
   "outputs": [
    {
     "data": {
      "image/png": "[encoded data removed]",
      "text/plain": [
       "<Figure size 640x480 with 1 Axes>"
      ]
     },
     "metadata": {},
     "output_type": "display_data"
    },
    {
     "data": {
      "image/png": "[encoded data removed]",
      "text/plain": [
       "<Figure size 640x480 with 1 Axes>"
      ]
     },
     "metadata": {},
     "output_type": "display_data"
    },
    {
     "data": {
      "image/png": "[encoded data removed]",
      "text/plain": [
       "<Figure size 640x480 with 1 Axes>"
      ]
     },
     "metadata": {},
     "output_type": "display_data"
    }
   ],
   "source": [
    "sns.countplot(x='Survived', data=cleaned_train)\n",
    "plt.show()\n",
    "\n",
    "sns.countplot(x='Pclass', hue='Survived', data=cleaned_train)\n",
    "plt.show()\n",
    "\n",
    "sns.countplot(x='Sex', hue='Survived', data=cleaned_train)\n",
    "plt.show()\n"
   ]
  },
  {
   "cell_type": "markdown",
   "id": "a4c55091",
   "metadata": {},
   "source": [
    "Statistical tests"
   ]
  },
  {
   "cell_type": "code",
   "execution_count": 24,
   "id": "0054b508",
   "metadata": {},
   "outputs": [
    {
     "name": "stdout",
     "output_type": "stream",
     "text": [
      "<class 'pandas.core.frame.DataFrame'>\n",
      "RangeIndex: 891 entries, 0 to 890\n",
      "Data columns (total 12 columns):\n",
      " #   Column       Non-Null Count  Dtype  \n",
      "---  ------       --------------  -----  \n",
      " 0   PassengerId  891 non-null    int64  \n",
      " 1   Survived     891 non-null    int64  \n",
      " 2   Pclass       891 non-null    int64  \n",
      " 3   Name         891 non-null    object \n",
      " 4   Sex          891 non-null    int64  \n",
      " 5   Age          891 non-null    float64\n",
      " 6   SibSp        891 non-null    int64  \n",
      " 7   Parch        891 non-null    int64  \n",
      " 8   Ticket       891 non-null    object \n",
      " 9   Fare         891 non-null    float64\n",
      " 10  Cabin        204 non-null    object \n",
      " 11  Embarked     891 non-null    float64\n",
      "dtypes: float64(3), int64(6), object(3)\n",
      "memory usage: 83.7+ KB\n"
     ]
    }
   ],
   "source": [
    "mode_embarked = Train['Embarked'].mode()[0]\n",
    "Train['Embarked'] = Train['Embarked'].fillna(mode_embarked)\n",
    "median_age = Train['Age'].median()\n",
    "Train['Age'] = Train['Age'].fillna(median_age)\n",
    "Train.info()"
   ]
  },
  {
   "cell_type": "code",
   "execution_count": 25,
   "id": "9cb1291b",
   "metadata": {},
   "outputs": [
    {
     "name": "stdout",
     "output_type": "stream",
     "text": [
      "Chi squre calculted for Embarked vs Survived: 25.964452881874788\n",
      "p value of Embarked vs Survived: 0.00\n",
      "dof of Embarked vs Survived: 2\n",
      "Chi squre calculted for Pclass vs Survived: 102.88898875696056\n",
      "p value of Pclass vs Survived: 0.00\n",
      "dof of Pclass vs Survived: 2\n",
      "Chi squre calculted for Sex vs Survived: 260.71702016732104\n",
      "p value of Sex vs Survived: 0.00\n",
      "dof of Sex vs Survived: 1\n",
      "Chi squre calculted for Parch vs Survived: 27.925784060236168\n",
      "p value of Parch vs Survived: 0.00\n",
      "dof of Parch vs Survived: 6\n",
      "Chi squre calculted for SibSp vs Survived: 37.2717929152043\n",
      "p value of SibSp vs Survived: 0.00\n",
      "dof of SibSp vs Survived: 6\n"
     ]
    }
   ],
   "source": [
    "# for all categorical columns\n",
    "# null hypothesis: the two categorical columns are independent\n",
    "# alternative hypothesis: the two categorical columns are dependent\n",
    "from scipy.stats import chi2_contingency\n",
    "\n",
    "# \"Embarked vs Survived\"\n",
    "table = pd.crosstab(Train[\"Embarked\"], Train[\"Survived\"])\n",
    "chi2, p, dof, expected = chi2_contingency(table)  # Yates correction auto-applied if 2x2 and correction=True\n",
    "print(\"Chi squre calculted for Embarked vs Survived:\",chi2)\n",
    "print(\"p value of Embarked vs Survived: %.2f\" % p)\n",
    "print(\"dof of Embarked vs Survived:\",dof)\n",
    "\n",
    "# \"Pclass vs Survived\"\n",
    "table = pd.crosstab(Train[\"Pclass\"], Train[\"Survived\"])\n",
    "chi2, p, dof, expected = chi2_contingency(table)  # Yates correction auto-applied if 2x2 and correction=True\n",
    "print(\"Chi squre calculted for Pclass vs Survived:\",chi2)\n",
    "print(\"p value of Pclass vs Survived: %.2f\" % p)\n",
    "print(\"dof of Pclass vs Survived:\",dof)\n",
    "\n",
    "# \"Sex vs Survived\"\n",
    "table = pd.crosstab(Train[\"Sex\"], Train[\"Survived\"])\n",
    "chi2, p, dof, expected = chi2_contingency(table)  # Yates correction auto-applied if 2x2 and correction=True\n",
    "print(\"Chi squre calculted for Sex vs Survived:\",chi2)\n",
    "print(\"p value of Sex vs Survived: %.2f\" % p)\n",
    "print(\"dof of Sex vs Survived:\",dof)\n",
    "\n",
    "# \"Parch vs Survived\"\n",
    "table = pd.crosstab(Train[\"Parch\"], Train[\"Survived\"])\n",
    "chi2, p, dof, expected = chi2_contingency(table)  # Yates correction auto-applied if 2x2 and correction=True\n",
    "print(\"Chi squre calculted for Parch vs Survived:\",chi2)\n",
    "print(\"p value of Parch vs Survived: %.2f\" % p)\n",
    "print(\"dof of Parch vs Survived:\",dof)\n",
    "\n",
    "#\"SibSp vs Survived\"\n",
    "table = pd.crosstab(Train[\"SibSp\"], Train[\"Survived\"])\n",
    "chi2, p, dof, expected = chi2_contingency(table)  # Yates correction auto-applied if 2x2 and correction=True\n",
    "print(\"Chi squre calculted for SibSp vs Survived:\",chi2)\n",
    "print(\"p value of SibSp vs Survived: %.2f\" % p)\n",
    "print(\"dof of SibSp vs Survived:\",dof)"
   ]
  },
  {
   "cell_type": "code",
   "execution_count": 26,
   "id": "061b6b0b",
   "metadata": {},
   "outputs": [
    {
     "name": "stdout",
     "output_type": "stream",
     "text": [
      "t calculted for Age vs Survived: 66.38951053085201\n",
      "p value of Age vs Survived: 0.00\n",
      "t calculted for Fare vs Survived: 19.112798902198033\n",
      "p value of Fare vs Survived: 0.00\n"
     ]
    }
   ],
   "source": [
    "# for all numerical relations\n",
    "# null hypothesis: the two categorical columns are independent\n",
    "# alternative hypothesis: the two categorical columns are dependent\n",
    "from scipy.stats import ttest_ind\n",
    "\n",
    "# Age vs Survived\n",
    "t_stat, p = ttest_ind(Train['Age'], Train['Survived'], equal_var=True)\n",
    "\n",
    "print(\"t calculted for Age vs Survived:\",t_stat)\n",
    "print(\"p value of Age vs Survived: %.2f\" % p)\n",
    "\n",
    "# Fare vs Survived\n",
    "t_stat, p = ttest_ind(Train['Fare'], Train['Survived'], equal_var=True)\n",
    "\n",
    "print(\"t calculted for Fare vs Survived:\",t_stat)\n",
    "print(\"p value of Fare vs Survived: %.2f\" % p)"
   ]
  },
  {
   "cell_type": "markdown",
   "id": "aab40210",
   "metadata": {},
   "source": [
    "# Modeling"
   ]
  },
  {
   "cell_type": "markdown",
   "id": "2aebbf82",
   "metadata": {},
   "source": [
    "appling a Random Forest Classifier to the data without missing values"
   ]
  },
  {
   "cell_type": "code",
   "execution_count": 27,
   "id": "3b11f196",
   "metadata": {},
   "outputs": [],
   "source": [
    "X = cleaned_train.drop('Survived', axis=1)\n",
    "y = cleaned_train['Survived']"
   ]
  },
  {
   "cell_type": "code",
   "execution_count": 28,
   "id": "0c2f5bdb",
   "metadata": {},
   "outputs": [
    {
     "name": "stdout",
     "output_type": "stream",
     "text": [
      "Accuracy: 0.8379888268156425\n"
     ]
    }
   ],
   "source": [
    "from sklearn.ensemble import RandomForestClassifier\n",
    "from sklearn.model_selection import train_test_split\n",
    "from sklearn.metrics import accuracy_score\n",
    "\n",
    "X_train, X_test, y_train, y_test = train_test_split(X, y, test_size=0.2, random_state=45)\n",
    "\n",
    "# Create Random Forest classifier\n",
    "rf = RandomForestClassifier(n_estimators=100, random_state=45)\n",
    "\n",
    "# Train the classifier\n",
    "rf.fit(X_train, y_train)\n",
    "\n",
    "# Predict on the test set\n",
    "y_pred = rf.predict(X_test)\n",
    "\n",
    "# Evaluate accuracy\n",
    "print(\"Accuracy:\", accuracy_score(y_test, y_pred))\n"
   ]
  },
  {
   "cell_type": "code",
   "execution_count": 29,
   "id": "dd6ca59d",
   "metadata": {},
   "outputs": [
    {
     "name": "stdout",
     "output_type": "stream",
     "text": [
      "Accuracy: 0.88268156424581\n"
     ]
    }
   ],
   "source": [
    "# Create Random Forest classifier\n",
    "nrf = RandomForestClassifier(n_estimators=100,max_depth=10,min_samples_split=5, min_samples_leaf=2, max_features='sqrt', criterion='log_loss', random_state=52, bootstrap=True)\n",
    "\n",
    "# Train the classifier\n",
    "nrf.fit(X_train, y_train)\n",
    "\n",
    "# Predict on the test set\n",
    "y_npred = nrf.predict(X_test)\n",
    "\n",
    "# Evaluate accuracy\n",
    "print(\"Accuracy:\", accuracy_score(y_test, y_npred))"
   ]
  },
  {
   "cell_type": "markdown",
   "id": "99483593",
   "metadata": {},
   "source": [
    "appling a XGboost to the data"
   ]
  },
  {
   "cell_type": "code",
   "execution_count": 30,
   "id": "eac12830",
   "metadata": {},
   "outputs": [
    {
     "name": "stdout",
     "output_type": "stream",
     "text": [
      "Test accuracy: 0.8379888268156425\n"
     ]
    }
   ],
   "source": [
    "from xgboost import XGBClassifier\n",
    "model = XGBClassifier(objective=\"binary:logistic\", random_state=52)\n",
    "model.fit(X_train, y_train)\n",
    "y_xpred = model.predict(X_test)\n",
    "print(\"Test accuracy:\", accuracy_score(y_test, y_xpred))"
   ]
  },
  {
   "cell_type": "code",
   "execution_count": 31,
   "id": "64605569",
   "metadata": {},
   "outputs": [
    {
     "name": "stdout",
     "output_type": "stream",
     "text": [
      "Test accuracy: 0.88268156424581\n"
     ]
    }
   ],
   "source": [
    "nmodel = XGBClassifier(\n",
    "    objective=\"binary:logistic\",\n",
    "    early_stopping_rounds=50,  # set in constructor in newer versions\n",
    "    eval_metric=\"logloss\",     # set in constructor in newer versions\n",
    "    random_state=42\n",
    ")\n",
    "nmodel.fit(X_train, y_train, eval_set=[(X_test, y_test)], verbose=False)\n",
    "y_nxpred = nmodel.predict(X_test)\n",
    "print(\"Test accuracy:\", accuracy_score(y_test, y_nxpred))\n"
   ]
  },
  {
   "cell_type": "markdown",
   "id": "c398c19c",
   "metadata": {},
   "source": [
    "Applying randomforest to the train data"
   ]
  },
  {
   "cell_type": "code",
   "execution_count": 32,
   "id": "1eff8b1a",
   "metadata": {},
   "outputs": [],
   "source": [
    "Survived = nrf.predict(cleaned_test)\n",
    "PassengerId = Test['PassengerId']\n",
    "output = pd.DataFrame({'PassengerId': PassengerId, 'Survived': Survived})\n",
    "output.to_csv('submission.csv', index=False)"
   ]
  },
  {
   "cell_type": "markdown",
   "id": "c902c183",
   "metadata": {},
   "source": [
    "Neural natwork"
   ]
  },
  {
   "cell_type": "code",
   "execution_count": 5,
   "id": "1ed9996d",
   "metadata": {},
   "outputs": [
    {
     "ename": "IndexError",
     "evalue": "tuple index out of range",
     "output_type": "error",
     "traceback": [
      "\u001b[1;31m---------------------------------------------------------------------------\u001b[0m",
      "\u001b[1;31mIndexError\u001b[0m                                Traceback (most recent call last)",
      "Cell \u001b[1;32mIn[5], line 3\u001b[0m\n\u001b[0;32m      1\u001b[0m \u001b[38;5;66;03m# After building and fitting the preprocessing pipeline:\u001b[39;00m\n\u001b[0;32m      2\u001b[0m X_train_np \u001b[38;5;241m=\u001b[39m preprocess\u001b[38;5;241m.\u001b[39mfit_transform(X_train)    \u001b[38;5;66;03m# e.g., ColumnTransformer with OneHotEncoder\u001b[39;00m\n\u001b[1;32m----> 3\u001b[0m n_features \u001b[38;5;241m=\u001b[39m \u001b[43mX_train_np\u001b[49m\u001b[38;5;241;43m.\u001b[39;49m\u001b[43mshape\u001b[49m\u001b[43m[\u001b[49m\u001b[38;5;241;43m11\u001b[39;49m\u001b[43m]\u001b[49m                  \u001b[38;5;66;03m# number of numeric input columns\u001b[39;00m\n\u001b[0;32m      5\u001b[0m \u001b[38;5;28;01mfrom\u001b[39;00m \u001b[38;5;21;01mtensorflow\u001b[39;00m\u001b[38;5;21;01m.\u001b[39;00m\u001b[38;5;21;01mkeras\u001b[39;00m\u001b[38;5;21;01m.\u001b[39;00m\u001b[38;5;21;01mmodels\u001b[39;00m \u001b[38;5;28;01mimport\u001b[39;00m Sequential\n\u001b[0;32m      6\u001b[0m \u001b[38;5;28;01mfrom\u001b[39;00m \u001b[38;5;21;01mtensorflow\u001b[39;00m\u001b[38;5;21;01m.\u001b[39;00m\u001b[38;5;21;01mkeras\u001b[39;00m\u001b[38;5;21;01m.\u001b[39;00m\u001b[38;5;21;01mlayers\u001b[39;00m \u001b[38;5;28;01mimport\u001b[39;00m Dense\n",
      "\u001b[1;31mIndexError\u001b[0m: tuple index out of range"
     ]
    }
   ],
   "source": [
    "# After building and fitting the preprocessing pipeline:\n",
    "X_train_np = preprocess.fit_transform(X_train)    # e.g., ColumnTransformer with OneHotEncoder\n",
    "n_features = X_train_np.shape[11]                  # number of numeric input columns\n",
    "\n",
    "from tensorflow.keras.models import Sequential\n",
    "from tensorflow.keras.layers import Dense\n",
    "from tensorflow.keras import regularizers\n",
    "import tensorflow as tf\n",
    "\n",
    "tf.random.set_seed(50)\n",
    "model = Sequential()\n",
    "model.add(Dense(64, activation='relu', input_shape=(n_features,),\n",
    "                kernel_regularizer=regularizers.l2(0.001)))\n",
    "model.add(Dense(32, activation='relu', kernel_regularizer=regularizers.l2(0.005)))\n",
    "model.add(Dense(1, activation='sigmoid'))\n",
    "\n",
    "model.compile(optimizer='adam', loss='binary_crossentropy', metrics=['accuracy'])\n"
   ]
  }
 ],
 "metadata": {
  "kernelspec": {
   "display_name": "Python 3",
   "language": "python",
   "name": "python3"
  },
  "language_info": {
   "codemirror_mode": {
    "name": "ipython",
    "version": 3
   },
   "file_extension": ".py",
   "mimetype": "text/x-python",
   "name": "python",
   "nbconvert_exporter": "python",
   "pygments_lexer": "ipython3",
   "version": "3.12.4"
  }
 },
 "nbformat": 4,
 "nbformat_minor": 5
}
